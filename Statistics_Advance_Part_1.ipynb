{
  "nbformat": 4,
  "nbformat_minor": 0,
  "metadata": {
    "colab": {
      "provenance": []
    },
    "kernelspec": {
      "name": "python3",
      "display_name": "Python 3"
    },
    "language_info": {
      "name": "python"
    }
  },
  "cells": [
    {
      "cell_type": "markdown",
      "source": [
        "# **Statistics Advance Part 1**"
      ],
      "metadata": {
        "id": "OZThZKPHg9nc"
      }
    },
    {
      "cell_type": "markdown",
      "source": [
        "\n",
        "**1. What is a random variable in probability theory?**  \n",
        "A random variable is a variable that assigns numerical values to the outcomes of a random event.\n",
        "\n",
        "**2. What are the types of random variables?**  \n",
        "There are two types:  \n",
        "- *Discrete*: Takes specific, countable values.  \n",
        "- *Continuous*: Takes any value within an interval.\n",
        "\n",
        "**3. What is the difference between discrete and continuous distributions?**  \n",
        "Discrete distributions deal with countable outcomes, while continuous distributions cover a range of real numbers.\n",
        "\n",
        "**4. What are probability distribution functions (PDF)?**  \n",
        "A PDF describes how probabilities are distributed over the values of a random variable.\n",
        "\n",
        "**5. How do cumulative distribution functions (CDF) differ from probability distribution functions (PDF)?**  \n",
        "A CDF gives the probability that a variable is less than or equal to a value, whereas a PDF gives the probability density at a specific value.\n",
        "\n",
        "**6. What is a discrete uniform distribution?**  \n",
        "It is a distribution where all possible discrete outcomes are equally likely.\n",
        "\n",
        "**7. What are the key properties of a Bernoulli distribution?**  \n",
        "It has only two outcomes (success = 1, failure = 0); mean = *p*, variance = *p(1−p)*.\n",
        "\n",
        "**8. What is the binomial distribution, and how is it used in probability?**  \n",
        "It models the number of successes in a fixed number of independent Bernoulli trials.\n",
        "\n",
        "**9. What is the Poisson distribution and where is it applied?**  \n",
        "It models the number of rare events occurring in a fixed time or space interval, like arrival of emails.\n",
        "\n",
        "**10. What is a continuous uniform distribution?**  \n",
        "It is a distribution where any value within a specified range is equally likely.\n",
        "\n",
        "**11. What are the characteristics of a normal distribution?**  \n",
        "It is symmetric, bell-shaped, defined by its mean and standard deviation.\n",
        "\n",
        "**12. What is the standard normal distribution, and why is it important?**  \n",
        "It’s a normal distribution with mean = 0 and SD = 1; it's used for computing Z-scores and standardizing data.\n",
        "\n",
        "**13. What is the Central Limit Theorem (CLT), and why is it critical in statistics?**  \n",
        "The CLT states that the sampling distribution of the mean approaches normality as sample size increases, regardless of the original data’s distribution.\n",
        "\n",
        "**14. How does the Central Limit Theorem relate to the normal distribution?**  \n",
        "It allows the use of the normal distribution to approximate sample means, even for non-normal populations.\n",
        "\n",
        "**15. What is the application of Z statistics in hypothesis testing?**  \n",
        "Z statistics measure how far a sample result is from the population mean, helping to test hypotheses.\n",
        "\n",
        "**16. How do you calculate a Z-score, and what does it represent?**  \n",
        "Formula: \\( Z = \\frac{(X - \\mu)}{\\sigma} \\); it shows how many standard deviations a value is from the mean.\n",
        "\n",
        "**17. What are point estimates and interval estimates in statistics?**  \n",
        "- *Point estimate*: A single value as an estimate of a parameter.  \n",
        "- *Interval estimate*: A range that likely contains the parameter with a confidence level.\n",
        "\n",
        "**18. What is the significance of confidence intervals in statistical analysis?**  \n",
        "They quantify uncertainty around estimates and provide a range where the true value likely lies.\n",
        "\n",
        "**19. What is the relationship between a Z-score and a confidence interval?**  \n",
        "Z-scores define the margin of error around the estimate used to construct confidence intervals.\n",
        "\n",
        "**20. How are Z-scores used to compare different distributions?**  \n",
        "They standardize data, allowing comparison across distributions with different means and scales.\n",
        "\n",
        "**21. What are the assumptions for applying the Central Limit Theorem?**  \n",
        "- Observations must be independent  \n",
        "- Samples should come from identical distributions  \n",
        "- Sample size should be sufficiently large\n",
        "\n",
        "**22. What is the concept of expected value in a probability distribution?**  \n",
        "It is the long-run average outcome, calculated as the sum of all possible values weighted by their probabilities.\n",
        "\n",
        "**23. How does a probability distribution relate to the expected outcome of a random variable?**  \n",
        "The distribution determines how likely each outcome is, which influences the expected value.\n",
        "\n"
      ],
      "metadata": {
        "id": "8lYA9MZ4g-SC"
      }
    },
    {
      "cell_type": "markdown",
      "source": [],
      "metadata": {
        "id": "Vrrt-iAZhevh"
      }
    },
    {
      "cell_type": "code",
      "source": [
        "### **1. Generate a Random Variable**\n",
        "import random\n",
        "\n",
        "x = random.randint(1, 100)\n",
        "print(f\"Random variable value: {x}\")\n"
      ],
      "metadata": {
        "colab": {
          "base_uri": "https://localhost:8080/"
        },
        "id": "NauMr2YXhfP7",
        "outputId": "e2e247d0-022f-4686-95f4-2a935edfea45"
      },
      "execution_count": 11,
      "outputs": [
        {
          "output_type": "stream",
          "name": "stdout",
          "text": [
            "Random variable value: 69\n"
          ]
        }
      ]
    },
    {
      "cell_type": "code",
      "source": [
        "### **2. Discrete Uniform Distribution + PMF**\n",
        "\n",
        "import numpy as np\n",
        "import matplotlib.pyplot as plt\n",
        "from scipy.stats import randint\n",
        "\n",
        "x = np.arange(1, 7)\n",
        "pmf = randint.pmf(x, 1, 7)\n",
        "\n",
        "plt.stem(x, pmf, basefmt=\" \")\n",
        "plt.xlabel(\"Value\")\n",
        "plt.ylabel(\"PMF\")\n",
        "plt.title(\"Discrete Uniform Distribution (1–6)\")\n",
        "plt.show()"
      ],
      "metadata": {
        "colab": {
          "base_uri": "https://localhost:8080/",
          "height": 472
        },
        "id": "rVMC70xyhfTi",
        "outputId": "0b99aa8d-5fe0-4653-b222-e5ada03e946a"
      },
      "execution_count": 10,
      "outputs": [
        {
          "output_type": "display_data",
          "data": {
            "text/plain": [
              "<Figure size 640x480 with 1 Axes>"
            ],
            "image/png": "[encoded data removed]"
          },
          "metadata": {}
        }
      ]
    },
    {
      "cell_type": "code",
      "source": [
        "### **3. Bernoulli Distribution – PDF Function**\n",
        "\n",
        "from scipy.stats import bernoulli\n",
        "\n",
        "def bernoulli_pdf(p):\n",
        "    return {x: bernoulli.pmf(x, p) for x in [0, 1]}\n",
        "\n",
        "print(bernoulli_pdf(0.6))"
      ],
      "metadata": {
        "colab": {
          "base_uri": "https://localhost:8080/"
        },
        "id": "hZn0YDkmhfXZ",
        "outputId": "7346da8e-c8d8-485b-ffef-218519ab9605"
      },
      "execution_count": 9,
      "outputs": [
        {
          "output_type": "stream",
          "name": "stdout",
          "text": [
            "{0: np.float64(0.4000000000000001), 1: np.float64(0.6)}\n"
          ]
        }
      ]
    },
    {
      "cell_type": "code",
      "source": [
        "### **4. Binomial Distribution Simulation**\n",
        "\n",
        "from scipy.stats import binom\n",
        "data = binom.rvs(n=10, p=0.5, size=1000)\n",
        "plt.hist(data, bins=11, edgecolor='black', density=True)\n",
        "plt.xlabel(\"Successes\")\n",
        "plt.ylabel(\"Frequency\")\n",
        "plt.title(\"Binomial Distribution (n=10, p=0.5)\")\n",
        "plt.show()"
      ],
      "metadata": {
        "id": "W9zkSzB3hfaq"
      },
      "execution_count": null,
      "outputs": []
    },
    {
      "cell_type": "code",
      "source": [
        "### **5. Poisson Distribution Visualization**\n",
        "from scipy.stats import poisson\n",
        "\n",
        "x = np.arange(0, 15)\n",
        "pmf = poisson.pmf(x, mu=4)\n",
        "\n",
        "plt.stem(x, pmf, basefmt=\" \")\n",
        "plt.xlabel(\"Events\")\n",
        "plt.ylabel(\"PMF\")\n",
        "plt.title(\"Poisson Distribution (λ = 4)\")\n",
        "plt.show()"
      ],
      "metadata": {
        "colab": {
          "base_uri": "https://localhost:8080/",
          "height": 472
        },
        "id": "UkQbl3UahfeJ",
        "outputId": "251eb199-9940-465a-fd07-7c8c8c044f1e"
      },
      "execution_count": 8,
      "outputs": [
        {
          "output_type": "display_data",
          "data": {
            "text/plain": [
              "<Figure size 640x480 with 1 Axes>"
            ],
            "image/png": "[encoded data removed]"
          },
          "metadata": {}
        }
      ]
    },
    {
      "cell_type": "code",
      "source": [
        "### **6. CDF of Discrete Uniform Distribution**\n",
        "\n",
        "cdf = randint.cdf(x, 1, 7)\n",
        "plt.step(x, cdf, where='mid')\n",
        "plt.xlabel(\"Value\")\n",
        "plt.ylabel(\"CDF\")\n",
        "plt.title(\"CDF of Discrete Uniform Distribution\")\n",
        "plt.grid(True)\n",
        "plt.show()"
      ],
      "metadata": {
        "colab": {
          "base_uri": "https://localhost:8080/",
          "height": 211
        },
        "id": "CZBM0eEnhfhL",
        "outputId": "3b1bf986-e08d-4260-b505-15ad447a91d4"
      },
      "execution_count": 7,
      "outputs": [
        {
          "output_type": "error",
          "ename": "NameError",
          "evalue": "name 'randint' is not defined",
          "traceback": [
            "\u001b[0;31m---------------------------------------------------------------------------\u001b[0m",
            "\u001b[0;31mNameError\u001b[0m                                 Traceback (most recent call last)",
            "\u001b[0;32m/tmp/ipython-input-7-2062524393.py\u001b[0m in \u001b[0;36m<cell line: 0>\u001b[0;34m()\u001b[0m\n\u001b[1;32m      1\u001b[0m \u001b[0;31m### **6. CDF of Discrete Uniform Distribution**\u001b[0m\u001b[0;34m\u001b[0m\u001b[0;34m\u001b[0m\u001b[0m\n\u001b[1;32m      2\u001b[0m \u001b[0;34m\u001b[0m\u001b[0m\n\u001b[0;32m----> 3\u001b[0;31m \u001b[0mcdf\u001b[0m \u001b[0;34m=\u001b[0m \u001b[0mrandint\u001b[0m\u001b[0;34m.\u001b[0m\u001b[0mcdf\u001b[0m\u001b[0;34m(\u001b[0m\u001b[0mx\u001b[0m\u001b[0;34m,\u001b[0m \u001b[0;36m1\u001b[0m\u001b[0;34m,\u001b[0m \u001b[0;36m7\u001b[0m\u001b[0;34m)\u001b[0m\u001b[0;34m\u001b[0m\u001b[0;34m\u001b[0m\u001b[0m\n\u001b[0m\u001b[1;32m      4\u001b[0m \u001b[0mplt\u001b[0m\u001b[0;34m.\u001b[0m\u001b[0mstep\u001b[0m\u001b[0;34m(\u001b[0m\u001b[0mx\u001b[0m\u001b[0;34m,\u001b[0m \u001b[0mcdf\u001b[0m\u001b[0;34m,\u001b[0m \u001b[0mwhere\u001b[0m\u001b[0;34m=\u001b[0m\u001b[0;34m'mid'\u001b[0m\u001b[0;34m)\u001b[0m\u001b[0;34m\u001b[0m\u001b[0;34m\u001b[0m\u001b[0m\n\u001b[1;32m      5\u001b[0m \u001b[0mplt\u001b[0m\u001b[0;34m.\u001b[0m\u001b[0mxlabel\u001b[0m\u001b[0;34m(\u001b[0m\u001b[0;34m\"Value\"\u001b[0m\u001b[0;34m)\u001b[0m\u001b[0;34m\u001b[0m\u001b[0;34m\u001b[0m\u001b[0m\n",
            "\u001b[0;31mNameError\u001b[0m: name 'randint' is not defined"
          ]
        }
      ]
    },
    {
      "cell_type": "code",
      "source": [
        "### **7. Continuous Uniform Distribution (NumPy + Plot)**\n",
        "\n",
        "data = np.random.uniform(0, 1, 1000)\n",
        "plt.hist(data, bins=20, edgecolor='black', density=True)\n",
        "plt.title(\"Continuous Uniform Distribution\")\n",
        "plt.xlabel(\"Value\")\n",
        "plt.ylabel(\"Density\")\n",
        "plt.show()"
      ],
      "metadata": {
        "id": "ejx3-OqfhfkV"
      },
      "execution_count": null,
      "outputs": []
    },
    {
      "cell_type": "code",
      "source": [
        "### **8. Normal Distribution Simulation**\n",
        "\n",
        "data = np.random.normal(loc=0, scale=1, size=1000)\n",
        "plt.hist(data, bins=30, edgecolor='black', density=True)\n",
        "plt.title(\"Normal Distribution (mean=0, std=1)\")\n",
        "plt.xlabel(\"Value\")\n",
        "plt.ylabel(\"Density\")\n",
        "plt.show()"
      ],
      "metadata": {
        "id": "WtQU79suhfnc"
      },
      "execution_count": null,
      "outputs": []
    },
    {
      "cell_type": "code",
      "source": [
        "### **9. Z-score Function + Plot**\n",
        "\n",
        "from scipy.stats import zscore\n",
        "\n",
        "dataset = np.random.normal(10, 2, 100)\n",
        "z_scores = zscore(dataset)\n",
        "\n",
        "plt.hist(z_scores, bins=30, edgecolor='black', density=True)\n",
        "plt.title(\"Z-score Distribution\")\n",
        "plt.xlabel(\"Z-score\")\n",
        "plt.ylabel(\"Density\")\n",
        "plt.show()"
      ],
      "metadata": {
        "colab": {
          "base_uri": "https://localhost:8080/",
          "height": 472
        },
        "id": "HlbRPKYkhfqi",
        "outputId": "0061ec3f-2a60-42ee-9577-b11f6a1edb03"
      },
      "execution_count": 6,
      "outputs": [
        {
          "output_type": "display_data",
          "data": {
            "text/plain": [
              "<Figure size 640x480 with 1 Axes>"
            ],
            "image/png": "[encoded data removed]"
          },
          "metadata": {}
        }
      ]
    },
    {
      "cell_type": "code",
      "source": [
        "### **10. Central Limit Theorem Implementation**\n",
        "\n",
        "samples = [np.mean(np.random.exponential(scale=2.0, size=30)) for _ in range(1000)]\n",
        "plt.hist(samples, bins=30, edgecolor='black', density=True)\n",
        "plt.title(\"Central Limit Theorem (Means of Exponential Samples)\")\n",
        "plt.xlabel(\"Sample Mean\")\n",
        "plt.ylabel(\"Density\")\n",
        "plt.show()"
      ],
      "metadata": {
        "colab": {
          "base_uri": "https://localhost:8080/",
          "height": 472
        },
        "id": "cii6g49_hftt",
        "outputId": "a5966c92-eb2e-4b53-c83b-faa0e1948e4f"
      },
      "execution_count": 5,
      "outputs": [
        {
          "output_type": "display_data",
          "data": {
            "text/plain": [
              "<Figure size 640x480 with 1 Axes>"
            ],
            "image/png": "[encoded data removed]"
          },
          "metadata": {}
        }
      ]
    },
    {
      "cell_type": "code",
      "source": [
        "### **15. Central Limit Theorem Verification**\n",
        "\n",
        "import numpy as np\n",
        "import matplotlib.pyplot as plt\n",
        "\n",
        "means = [np.mean(np.random.normal(loc=5, scale=2, size=30)) for _ in range(1000)]\n",
        "plt.hist(means, bins=30, edgecolor='black', density=True)\n",
        "plt.title(\"Central Limit Theorem: Means from Normal Samples\")\n",
        "plt.xlabel(\"Sample Mean\")\n",
        "plt.ylabel(\"Density\")\n",
        "plt.show()"
      ],
      "metadata": {
        "colab": {
          "base_uri": "https://localhost:8080/",
          "height": 472
        },
        "id": "3y70jtuIhfwk",
        "outputId": "bf0bfdf6-6679-4794-a8ec-8907c3926dce"
      },
      "execution_count": 4,
      "outputs": [
        {
          "output_type": "display_data",
          "data": {
            "text/plain": [
              "<Figure size 640x480 with 1 Axes>"
            ],
            "image/png": "[encoded data removed]"
          },
          "metadata": {}
        }
      ]
    },
    {
      "cell_type": "code",
      "source": [
        "### **16. Standard Normal Distribution Plot**\n",
        "\n",
        "from scipy.stats import norm\n",
        "\n",
        "x = np.linspace(-4, 4, 1000)\n",
        "y = norm.pdf(x, 0, 1)\n",
        "\n",
        "plt.plot(x, y)\n",
        "plt.title(\"Standard Normal Distribution (μ=0, σ=1)\")\n",
        "plt.xlabel(\"Z-score\")\n",
        "plt.ylabel(\"Density\")\n",
        "plt.grid(True)\n",
        "plt.show()"
      ],
      "metadata": {
        "colab": {
          "base_uri": "https://localhost:8080/",
          "height": 211
        },
        "id": "7AWJNrQIhfzq",
        "outputId": "cc7542a2-8762-4df0-d53c-cc0c0a82df98"
      },
      "execution_count": 3,
      "outputs": [
        {
          "output_type": "error",
          "ename": "NameError",
          "evalue": "name 'np' is not defined",
          "traceback": [
            "\u001b[0;31m---------------------------------------------------------------------------\u001b[0m",
            "\u001b[0;31mNameError\u001b[0m                                 Traceback (most recent call last)",
            "\u001b[0;32m/tmp/ipython-input-3-401686018.py\u001b[0m in \u001b[0;36m<cell line: 0>\u001b[0;34m()\u001b[0m\n\u001b[1;32m      3\u001b[0m \u001b[0;32mfrom\u001b[0m \u001b[0mscipy\u001b[0m\u001b[0;34m.\u001b[0m\u001b[0mstats\u001b[0m \u001b[0;32mimport\u001b[0m \u001b[0mnorm\u001b[0m\u001b[0;34m\u001b[0m\u001b[0;34m\u001b[0m\u001b[0m\n\u001b[1;32m      4\u001b[0m \u001b[0;34m\u001b[0m\u001b[0m\n\u001b[0;32m----> 5\u001b[0;31m \u001b[0mx\u001b[0m \u001b[0;34m=\u001b[0m \u001b[0mnp\u001b[0m\u001b[0;34m.\u001b[0m\u001b[0mlinspace\u001b[0m\u001b[0;34m(\u001b[0m\u001b[0;34m-\u001b[0m\u001b[0;36m4\u001b[0m\u001b[0;34m,\u001b[0m \u001b[0;36m4\u001b[0m\u001b[0;34m,\u001b[0m \u001b[0;36m1000\u001b[0m\u001b[0;34m)\u001b[0m\u001b[0;34m\u001b[0m\u001b[0;34m\u001b[0m\u001b[0m\n\u001b[0m\u001b[1;32m      6\u001b[0m \u001b[0my\u001b[0m \u001b[0;34m=\u001b[0m \u001b[0mnorm\u001b[0m\u001b[0;34m.\u001b[0m\u001b[0mpdf\u001b[0m\u001b[0;34m(\u001b[0m\u001b[0mx\u001b[0m\u001b[0;34m,\u001b[0m \u001b[0;36m0\u001b[0m\u001b[0;34m,\u001b[0m \u001b[0;36m1\u001b[0m\u001b[0;34m)\u001b[0m\u001b[0;34m\u001b[0m\u001b[0;34m\u001b[0m\u001b[0m\n\u001b[1;32m      7\u001b[0m \u001b[0;34m\u001b[0m\u001b[0m\n",
            "\u001b[0;31mNameError\u001b[0m: name 'np' is not defined"
          ]
        }
      ]
    },
    {
      "cell_type": "code",
      "source": [
        "### **17. Binomial Probabilities**\n",
        "\n",
        "from scipy.stats import binom\n",
        "\n",
        "n, p = 10, 0.5\n",
        "x = np.arange(0, n+1)\n",
        "probs = binom.pmf(x, n, p)\n",
        "\n",
        "for i, prob in zip(x, probs):\n",
        "    print(f\"P(X={i}) = {prob:.4f}\")"
      ],
      "metadata": {
        "id": "B-IJ408Thf26"
      },
      "execution_count": null,
      "outputs": []
    },
    {
      "cell_type": "code",
      "source": [
        "### **18. Z-Score Calculation**\n",
        "\n",
        "def calculate_z(x, mu, sigma):\n",
        "    z = (x - mu) / sigma\n",
        "    return z\n",
        "\n",
        "data_point = 72\n",
        "mean = 70\n",
        "std_dev = 4\n",
        "\n",
        "z = calculate_z(data_point, mean, std_dev)\n",
        "print(f\"Z-score: {z:.2f}\")"
      ],
      "metadata": {
        "id": "IvRTv3F1hf6B"
      },
      "execution_count": null,
      "outputs": []
    },
    {
      "cell_type": "code",
      "source": [
        "### **19. Hypothesis Testing with Z-statistics**\n",
        "\n",
        "sample_mean = 102\n",
        "population_mean = 100\n",
        "std_dev = 5\n",
        "sample_size = 30\n",
        "\n",
        "z = (sample_mean - population_mean) / (std_dev / np.sqrt(sample_size))\n",
        "print(f\"Z-statistic: {z:.2f}\")"
      ],
      "metadata": {
        "id": "ZkGVls39hf9Q"
      },
      "execution_count": null,
      "outputs": []
    },
    {
      "cell_type": "code",
      "source": [
        "\n",
        "### **20. Confidence Interval of Dataset**\n",
        "\n",
        "data = np.random.normal(50, 10, 100)\n",
        "sample_mean = np.mean(data)\n",
        "sample_std = np.std(data, ddof=1)\n",
        "n = len(data)\n",
        "\n",
        "from scipy.stats import norm\n",
        "conf_level = 0.95\n",
        "z = norm.ppf(0.975)\n",
        "margin = z * (sample_std / np.sqrt(n))\n",
        "\n",
        "ci = (sample_mean - margin, sample_mean + margin)\n",
        "print(f\"95% Confidence Interval: {ci}\")"
      ],
      "metadata": {
        "id": "u-4Zi43JhgAd"
      },
      "execution_count": null,
      "outputs": []
    },
    {
      "cell_type": "code",
      "source": [
        "### **21. CI from Normally Distributed Data**\n",
        "\n",
        "data = np.random.normal(loc=60, scale=8, size=100)\n",
        "mean = np.mean(data)\n",
        "sem = np.std(data, ddof=1) / np.sqrt(len(data))\n",
        "ci = (mean - 1.96 * sem, mean + 1.96 * sem)\n",
        "print(f\"CI for normal data: {ci}\")"
      ],
      "metadata": {
        "id": "4hlEjQANhgDZ"
      },
      "execution_count": null,
      "outputs": []
    },
    {
      "cell_type": "code",
      "source": [
        "### **22. PDF of Normal Distribution**\n",
        "\n",
        "x = np.linspace(40, 80, 1000)\n",
        "pdf = norm.pdf(x, loc=60, scale=8)\n",
        "\n",
        "plt.plot(x, pdf)\n",
        "plt.title(\"Normal Distribution PDF (μ=60, σ=8)\")\n",
        "plt.xlabel(\"Value\")\n",
        "plt.ylabel(\"Density\")\n",
        "plt.show()"
      ],
      "metadata": {
        "id": "KuHeZCA7hgGh"
      },
      "execution_count": null,
      "outputs": []
    },
    {
      "cell_type": "code",
      "source": [
        "### **23. CDF of Poisson Distribution**\n",
        "\n",
        "from scipy.stats import poisson\n",
        "\n",
        "λ = 3\n",
        "x = np.arange(0, 10)\n",
        "cdf = poisson.cdf(x, λ)\n",
        "\n",
        "for val, prob in zip(x, cdf):\n",
        "    print(f\"P(X ≤ {val}) = {prob:.4f}\")"
      ],
      "metadata": {
        "id": "zhmJtE9VhgJp"
      },
      "execution_count": null,
      "outputs": []
    },
    {
      "cell_type": "code",
      "source": [
        "### **24. Continuous Uniform Simulation + Expected Value**\n",
        "\n",
        "data = np.random.uniform(10, 20, 1000)\n",
        "expected = np.mean(data)\n",
        "print(f\"Expected Value: {expected:.2f}\")"
      ],
      "metadata": {
        "id": "K6AATn6phgMy"
      },
      "execution_count": null,
      "outputs": []
    },
    {
      "cell_type": "code",
      "source": [
        "### **25. Compare Standard Deviations**\n",
        "\n",
        "data1 = np.random.normal(50, 5, 100)\n",
        "data2 = np.random.normal(50, 10, 100)\n",
        "\n",
        "std1 = np.std(data1)\n",
        "std2 = np.std(data2)\n",
        "\n",
        "plt.hist(data1, bins=20, alpha=0.5, label='σ=5')\n",
        "plt.hist(data2, bins=20, alpha=0.5, label='σ=10')\n",
        "plt.legend()\n",
        "plt.title(\"Comparing Standard Deviations\")\n",
        "plt.show()"
      ],
      "metadata": {
        "id": "UeSyfBcShgQG"
      },
      "execution_count": null,
      "outputs": []
    },
    {
      "cell_type": "code",
      "source": [
        "\n",
        "### **26. Range and IQR of Normal Data**\n",
        "```python\n",
        "from scipy.stats import iqr\n",
        "\n",
        "data = np.random.normal(100, 15, 200)\n",
        "range_val = np.ptp(data)\n",
        "iqr_val = iqr(data)\n",
        "\n",
        "print(f\"Range: {range_val:.2f}\")\n",
        "print(f\"IQR: {iqr_val:.2f}\")"
      ],
      "metadata": {
        "id": "tfSqVPzXhgTb"
      },
      "execution_count": null,
      "outputs": []
    },
    {
      "cell_type": "code",
      "source": [
        "### **27. Z-score Normalization and Plot**\n",
        "\n",
        "from scipy.stats import zscore\n",
        "\n",
        "data = np.random.normal(40, 7, 200)\n",
        "z_data = zscore(data)\n",
        "\n",
        "plt.hist(z_data, bins=20, edgecolor='black')\n",
        "plt.title(\"Z-score Normalized Data\")\n",
        "plt.xlabel(\"Z-score\")\n",
        "plt.ylabel(\"Frequency\")\n",
        "plt.show()"
      ],
      "metadata": {
        "id": "ZP9L4ILehgWp"
      },
      "execution_count": null,
      "outputs": []
    },
    {
      "cell_type": "code",
      "source": [
        "### **28. Skewness and Kurtosis**\n",
        "\n",
        "from scipy.stats import skew, kurtosis\n",
        "\n",
        "data = np.random.normal(0, 1, 1000)\n",
        "print(f\"Skewness: {skew(data):.2f}\")\n",
        "print(f\"Kurtosis: {kurtosis(data):.2f}\")"
      ],
      "metadata": {
        "id": "o4AZ7wBZhgZu"
      },
      "execution_count": null,
      "outputs": []
    }
  ]
}